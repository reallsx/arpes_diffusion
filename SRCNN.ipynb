{
 "cells": [
  {
   "cell_type": "markdown",
   "id": "822eb3d6-8297-443b-b003-b96b93d401bb",
   "metadata": {},
   "source": [
    "# Building ARPES SRCNN in pytorch\n",
    "\n",
    "Repeating the result of [SR-CNN](https://github.com/avdfo/PHYS_549_package) but in pytorch."
   ]
  },
  {
   "cell_type": "code",
   "execution_count": 5,
   "id": "9ee37158-8ec8-42ba-aa5c-42d01b8117d1",
   "metadata": {},
   "outputs": [],
   "source": [
    "import math\n",
    "from inspect import isfunction\n",
    "from functools import partial\n",
    "\n",
    "\n",
    "import os\n",
    "os.environ[\"CUDA_DEVICE_ORDER\"]=\"PCI_BUS_ID\"\n",
    "os.environ[\"CUDA_VISIBLE_DEVICES\"]=\"1\"\n",
    "\n",
    "# %matplotlib inline\n",
    "import matplotlib.pyplot as plt\n",
    "from tqdm.auto import tqdm\n",
    "from einops import rearrange\n",
    "\n",
    "import torch\n",
    "import torch.nn as nn\n",
    "import torch.optim as optim\n",
    "import torchvision.datasets as datasets\n",
    "import torchvision.transforms as transforms\n",
    "\n",
    "import numpy as np"
   ]
  },
  {
   "cell_type": "code",
   "execution_count": 2,
   "id": "7259ebf2-5202-419c-a754-d2bfd0f0bfbc",
   "metadata": {},
   "outputs": [],
   "source": [
    "from torch.utils.data import DataLoader, Dataset"
   ]
  },
  {
   "cell_type": "code",
   "execution_count": 3,
   "id": "38cac138-39a4-4438-8c7c-ee53b5a414ee",
   "metadata": {},
   "outputs": [],
   "source": [
    "import glob\n",
    "\n",
    "def read_arpes_data(directory, dset_name):\n",
    "    '''\n",
    "    load low resolution (noisy) and high resolution arpes data from npy files.\n",
    "    '''\n",
    "    hr = []\n",
    "    lr = []\n",
    "    \n",
    "    path_hr = directory + dset_name + \"_hr/\"\n",
    "    path_lr = directory + dset_name + \"_lr/\"\n",
    "    \n",
    "    allfiles_hr = glob.glob(path_hr+\"*\"+\".npy\")\n",
    "    allfiles_hr.sort()\n",
    "    \n",
    "    allfiles_lr = glob.glob(path_lr+\"*\"+\".npy\")\n",
    "    allfiles_lr.sort()\n",
    "    \n",
    "    for one_file in allfiles_hr:\n",
    "        hr.append(np.load(one_file)[:256,:256].reshape(1,256,256))\n",
    "        # hr.append(np.load(one_file).reshape(1,300,300))\n",
    "        \n",
    "    for one_file in allfiles_lr:\n",
    "        lr.append(np.load(one_file)[:256,:256].reshape(1,256,256))\n",
    "        # lr.append(np.load(one_file).reshape(1,300,300))\n",
    "        \n",
    "    hr = np.stack(hr, axis = 0)\n",
    "    lr = np.stack(lr, axis = 0)\n",
    "    \n",
    "    return hr, lr\n",
    "    \n",
    "    \n",
    "    \n",
    "    "
   ]
  },
  {
   "cell_type": "code",
   "execution_count": 20,
   "id": "ab4433bf-5562-4527-852a-489aca0a7458",
   "metadata": {},
   "outputs": [],
   "source": [
    "train_hr, train_lr = read_arpes_data(\"/stor0/reallsx/arpes/\", \"train\")\n",
    "val_hr, val_lr = read_arpes_data(\"/stor0/reallsx/arpes/\", \"validation\")"
   ]
  },
  {
   "cell_type": "code",
   "execution_count": 5,
   "id": "e122af6c-00eb-48ba-b29a-eca7b02a3b0c",
   "metadata": {},
   "outputs": [],
   "source": [
    "# train_hr = train_hr * 2 - 1\n",
    "# train_lr = train_lr * 2 - 1"
   ]
  },
  {
   "cell_type": "code",
   "execution_count": 7,
   "id": "2bd6322d-b6ba-4aed-85c9-bb690582a0e6",
   "metadata": {},
   "outputs": [
    {
     "data": {
      "text/plain": [
       "(1600, 1, 256, 256)"
      ]
     },
     "execution_count": 7,
     "metadata": {},
     "output_type": "execute_result"
    }
   ],
   "source": [
    "train_hr.shape"
   ]
  },
  {
   "cell_type": "code",
   "execution_count": 8,
   "id": "7c711df1-1010-45cc-be83-f8daccd74a0d",
   "metadata": {},
   "outputs": [],
   "source": [
    "class apres_dataset(Dataset):\n",
    "    def __init__(self, hr, lr):\n",
    "        if len(hr) != len(lr):\n",
    "            raise ValueError(\"Inputs must have the same length\")\n",
    "        \n",
    "        self.hr = hr\n",
    "        self.lr = lr\n",
    "\n",
    "    def __len__(self):\n",
    "        return len(self.hr)\n",
    "\n",
    "    def __getitem__(self, index):\n",
    "        x = torch.from_numpy(self.hr[index])\n",
    "        y = torch.from_numpy(self.lr[index])\n",
    "        return {'HR':x, 'SR':y}"
   ]
  },
  {
   "cell_type": "code",
   "execution_count": 21,
   "id": "cc4726cf-35f8-440a-88fb-85052527bfa1",
   "metadata": {},
   "outputs": [],
   "source": [
    "train_dataset = apres_dataset(train_hr, train_lr)\n",
    "val_dataset = apres_dataset(val_hr, val_lr)"
   ]
  },
  {
   "cell_type": "code",
   "execution_count": 13,
   "id": "4b113829-ac97-4c54-932b-892d5adc55e9",
   "metadata": {},
   "outputs": [
    {
     "name": "stdout",
     "output_type": "stream",
     "text": [
      "True\n",
      "0\n"
     ]
    }
   ],
   "source": [
    "print(torch.cuda.is_available())\n",
    "# torch.cuda.set_device(1)\n",
    "print(torch.cuda.current_device())"
   ]
  },
  {
   "cell_type": "code",
   "execution_count": 14,
   "id": "934e4f2c-8a86-4a1f-95cc-50f108b431f7",
   "metadata": {},
   "outputs": [],
   "source": [
    "class SRCNN(nn.Module):\n",
    "    def __init__(self):\n",
    "        super(SRCNN, self).__init__()\n",
    "        self.conv1 = nn.Conv2d(in_channels=1, out_channels=64, kernel_size=9, stride=1, padding=\"same\")\n",
    "        # self.bn1 = nn.BatchNorm2d(32)\n",
    "        self.relu1 = nn.ReLU()\n",
    "        # self.pool1 = nn.MaxPool2d(kernel_size=2, stride=2)\n",
    "        self.conv2 = nn.Conv2d(in_channels=64, out_channels=32, kernel_size=1, stride=1, padding=\"same\")\n",
    "        self.relu2 = nn.ReLU()\n",
    "        self.conv3 = nn.Conv2d(in_channels=32, out_channels=1, kernel_size=5, stride=1, padding=\"same\")\n",
    "        self.sigmoid = nn.Sigmoid()\n",
    "        \n",
    "    def forward(self, x):\n",
    "        x = self.conv1(x)\n",
    "        x = self.relu1(x)\n",
    "        x = self.conv2(x)\n",
    "        x = self.relu2(x)\n",
    "        x = self.conv3(x)\n",
    "        x = self.sigmoid(x)\n",
    "        return x\n"
   ]
  },
  {
   "cell_type": "code",
   "execution_count": 44,
   "id": "55e11293-29c3-443f-9237-cc771539f33d",
   "metadata": {},
   "outputs": [],
   "source": [
    "from torch.nn import init\n",
    "\n",
    "def weights_init_orthogonal(m):\n",
    "    classname = m.__class__.__name__\n",
    "    if classname.find('Conv') != -1:\n",
    "        init.orthogonal_(m.weight.data, gain=1)\n",
    "        if m.bias is not None:\n",
    "            m.bias.data.zero_()"
   ]
  },
  {
   "cell_type": "code",
   "execution_count": 82,
   "id": "422cfabf-e108-41ca-b83e-13669b0c035f",
   "metadata": {},
   "outputs": [],
   "source": [
    "from torch.optim import Adam\n",
    "from torch.optim.lr_scheduler import ReduceLROnPlateau\n",
    "\n",
    "device = \"cuda\" if torch.cuda.is_available() else \"cpu\"\n",
    "\n",
    "model = SRCNN().to(device)\n",
    "model.apply(weights_init_orthogonal)\n",
    "\n",
    "\n",
    "# criterion = nn.BCEWithLogitsLoss()\n",
    "criterion = nn.BCELoss()\n",
    "\n",
    "optimizer = Adam(model.parameters(), lr=1e-4)\n",
    "scheduler = ReduceLROnPlateau(optimizer, 'min', factor = 0.5, cooldown = 5)"
   ]
  },
  {
   "cell_type": "code",
   "execution_count": 61,
   "id": "4a7da42a-4b8a-4546-b8ba-1ad63aed30c8",
   "metadata": {},
   "outputs": [],
   "source": [
    "train_dataloader = DataLoader(train_dataset, batch_size=5, shuffle=True)\n",
    "val_dataloader = DataLoader(val_dataset, batch_size=5, shuffle=True)"
   ]
  },
  {
   "cell_type": "code",
   "execution_count": 42,
   "id": "3604ad3f-01e1-4092-be78-ae77be525a88",
   "metadata": {},
   "outputs": [],
   "source": [
    "# a small function provided by chatGPT to control GPU temperature\n",
    "\n",
    "import time\n",
    "import os\n",
    "\n",
    "def get_gpu_temperature(gpu_id = 0):\n",
    "    try:\n",
    "        output = os.popen('nvidia-smi --query-gpu=temperature.gpu --format=csv').read().strip().split('\\n')[1+gpu_id]\n",
    "        temperature = int(output)\n",
    "        return temperature\n",
    "    except Exception as e:\n",
    "        print(f'Error getting GPU temperature: {str(e)}')\n",
    "        return None\n",
    "    \n",
    "def gpu_cooldown(gpu_id = 0, upper_lim = 90, lower_lim = 75, sleep_time = 30):\n",
    "    temp = get_gpu_temperature(gpu_id)\n",
    "    if temp < upper_lim:\n",
    "        return\n",
    "    else:\n",
    "        while(temp > lower_lim):\n",
    "            time.sleep(sleep_time)\n",
    "            temp = get_gpu_temperature(gpu_id)\n",
    "        return"
   ]
  },
  {
   "cell_type": "code",
   "execution_count": 83,
   "id": "24b11505-0407-4084-86dc-89113ae909bb",
   "metadata": {},
   "outputs": [
    {
     "name": "stdout",
     "output_type": "stream",
     "text": [
      "Epoch 1, loss: 0.436\n",
      "val_loss: 0.154\n",
      "Epoch 2, loss: 0.126\n",
      "val_loss: 0.114\n",
      "Epoch 3, loss: 0.111\n",
      "val_loss: 0.107\n",
      "Epoch 4, loss: 0.105\n",
      "val_loss: 0.103\n",
      "Epoch 5, loss: 0.101\n",
      "val_loss: 0.099\n",
      "Epoch 6, loss: 0.098\n",
      "val_loss: 0.097\n",
      "Epoch 7, loss: 0.095\n",
      "val_loss: 0.095\n",
      "Epoch 8, loss: 0.093\n",
      "val_loss: 0.093\n",
      "Epoch 9, loss: 0.091\n",
      "val_loss: 0.091\n",
      "Epoch 10, loss: 0.089\n",
      "val_loss: 0.090\n",
      "Epoch 11, loss: 0.088\n",
      "val_loss: 0.090\n",
      "Epoch 12, loss: 0.087\n",
      "val_loss: 0.089\n",
      "Epoch 13, loss: 0.086\n",
      "val_loss: 0.088\n",
      "Epoch 14, loss: 0.085\n",
      "val_loss: 0.088\n",
      "Epoch 15, loss: 0.084\n",
      "val_loss: 0.087\n",
      "Epoch 16, loss: 0.084\n",
      "val_loss: 0.087\n",
      "Epoch 17, loss: 0.083\n",
      "val_loss: 0.087\n",
      "Epoch 18, loss: 0.083\n",
      "val_loss: 0.086\n",
      "Epoch 19, loss: 0.082\n",
      "val_loss: 0.086\n",
      "Epoch 20, loss: 0.082\n",
      "val_loss: 0.085\n",
      "Epoch 21, loss: 0.082\n",
      "val_loss: 0.085\n",
      "Epoch 22, loss: 0.081\n",
      "val_loss: 0.085\n",
      "Epoch 23, loss: 0.081\n",
      "val_loss: 0.084\n",
      "Epoch 24, loss: 0.081\n",
      "val_loss: 0.084\n",
      "Epoch 25, loss: 0.081\n",
      "val_loss: 0.084\n",
      "Epoch 26, loss: 0.080\n",
      "val_loss: 0.084\n",
      "Epoch 27, loss: 0.080\n",
      "val_loss: 0.083\n",
      "Epoch 28, loss: 0.080\n",
      "val_loss: 0.083\n",
      "Epoch 29, loss: 0.080\n",
      "val_loss: 0.083\n",
      "Epoch 30, loss: 0.079\n",
      "val_loss: 0.082\n",
      "Epoch 31, loss: 0.079\n",
      "val_loss: 0.082\n",
      "Epoch 32, loss: 0.079\n",
      "val_loss: 0.082\n",
      "Epoch 33, loss: 0.079\n",
      "val_loss: 0.082\n",
      "Epoch 34, loss: 0.078\n",
      "val_loss: 0.082\n",
      "Epoch 35, loss: 0.078\n",
      "val_loss: 0.082\n",
      "Epoch 36, loss: 0.078\n",
      "val_loss: 0.082\n",
      "Epoch 37, loss: 0.078\n",
      "val_loss: 0.081\n",
      "Epoch 38, loss: 0.078\n",
      "val_loss: 0.081\n",
      "Epoch 39, loss: 0.078\n",
      "val_loss: 0.081\n",
      "Epoch 40, loss: 0.078\n",
      "val_loss: 0.081\n",
      "Epoch 41, loss: 0.077\n",
      "val_loss: 0.081\n",
      "Epoch 42, loss: 0.077\n",
      "val_loss: 0.081\n",
      "Epoch 43, loss: 0.077\n",
      "val_loss: 0.080\n",
      "Epoch 44, loss: 0.077\n",
      "val_loss: 0.080\n",
      "Epoch 45, loss: 0.077\n",
      "val_loss: 0.080\n",
      "Epoch 46, loss: 0.077\n",
      "val_loss: 0.080\n",
      "Epoch 47, loss: 0.077\n",
      "val_loss: 0.080\n",
      "Epoch 48, loss: 0.077\n",
      "val_loss: 0.080\n",
      "Epoch 49, loss: 0.076\n",
      "val_loss: 0.079\n",
      "Epoch 50, loss: 0.076\n",
      "val_loss: 0.079\n",
      "Epoch 51, loss: 0.076\n",
      "val_loss: 0.079\n",
      "Epoch 52, loss: 0.076\n",
      "val_loss: 0.079\n",
      "Epoch 53, loss: 0.076\n",
      "val_loss: 0.079\n",
      "Epoch 54, loss: 0.076\n",
      "val_loss: 0.079\n",
      "Epoch 55, loss: 0.076\n",
      "val_loss: 0.079\n",
      "Epoch 56, loss: 0.076\n",
      "val_loss: 0.079\n",
      "Epoch 57, loss: 0.076\n",
      "val_loss: 0.079\n",
      "Epoch 58, loss: 0.076\n",
      "val_loss: 0.078\n",
      "Epoch 59, loss: 0.076\n",
      "val_loss: 0.078\n",
      "Epoch 60, loss: 0.075\n",
      "val_loss: 0.079\n",
      "Epoch 61, loss: 0.075\n",
      "val_loss: 0.079\n",
      "Epoch 62, loss: 0.075\n",
      "val_loss: 0.078\n",
      "Epoch 63, loss: 0.075\n",
      "val_loss: 0.079\n",
      "Epoch 64, loss: 0.075\n",
      "val_loss: 0.078\n",
      "Epoch 65, loss: 0.075\n",
      "val_loss: 0.078\n",
      "Epoch 66, loss: 0.075\n",
      "val_loss: 0.078\n",
      "Epoch 67, loss: 0.075\n",
      "val_loss: 0.078\n",
      "Epoch 68, loss: 0.075\n",
      "val_loss: 0.078\n",
      "Epoch 69, loss: 0.075\n",
      "val_loss: 0.078\n",
      "Epoch 70, loss: 0.075\n",
      "val_loss: 0.077\n",
      "Epoch 71, loss: 0.074\n",
      "val_loss: 0.077\n",
      "Epoch 72, loss: 0.074\n",
      "val_loss: 0.078\n",
      "Epoch 73, loss: 0.074\n",
      "val_loss: 0.078\n",
      "Epoch 74, loss: 0.074\n",
      "val_loss: 0.077\n",
      "Epoch 75, loss: 0.074\n",
      "val_loss: 0.077\n",
      "Epoch 76, loss: 0.074\n",
      "val_loss: 0.078\n",
      "Epoch 77, loss: 0.074\n",
      "val_loss: 0.077\n",
      "Epoch 78, loss: 0.074\n",
      "val_loss: 0.077\n",
      "Epoch 79, loss: 0.074\n",
      "val_loss: 0.077\n",
      "Epoch 80, loss: 0.074\n",
      "val_loss: 0.077\n",
      "Epoch 81, loss: 0.074\n",
      "val_loss: 0.077\n",
      "Epoch 82, loss: 0.074\n",
      "val_loss: 0.077\n",
      "Epoch 83, loss: 0.074\n",
      "val_loss: 0.076\n",
      "Epoch 84, loss: 0.074\n",
      "val_loss: 0.077\n",
      "Epoch 85, loss: 0.074\n",
      "val_loss: 0.077\n",
      "Epoch 86, loss: 0.074\n",
      "val_loss: 0.077\n",
      "Epoch 87, loss: 0.073\n",
      "val_loss: 0.077\n",
      "Epoch 88, loss: 0.073\n",
      "val_loss: 0.077\n",
      "Epoch 89, loss: 0.073\n",
      "val_loss: 0.077\n",
      "Epoch 90, loss: 0.073\n",
      "val_loss: 0.076\n",
      "Epoch 91, loss: 0.073\n",
      "val_loss: 0.076\n",
      "Epoch 92, loss: 0.073\n",
      "val_loss: 0.076\n",
      "Epoch 93, loss: 0.073\n",
      "val_loss: 0.076\n",
      "Epoch 94, loss: 0.073\n",
      "val_loss: 0.076\n",
      "Epoch 95, loss: 0.073\n",
      "val_loss: 0.076\n",
      "Epoch 96, loss: 0.073\n",
      "val_loss: 0.076\n",
      "Epoch 97, loss: 0.073\n",
      "val_loss: 0.076\n",
      "Epoch 98, loss: 0.073\n",
      "val_loss: 0.076\n",
      "Epoch 99, loss: 0.073\n",
      "val_loss: 0.076\n",
      "Epoch 100, loss: 0.073\n",
      "val_loss: 0.077\n"
     ]
    }
   ],
   "source": [
    "epochs = 100\n",
    "\n",
    "training_loss = []\n",
    "validation_loss = []\n",
    "\n",
    "def test(dataloader, model, loss_fn):\n",
    "    size = len(dataloader.dataset)\n",
    "    num_batches = len(dataloader)\n",
    "    model.eval()\n",
    "    test_loss = 0.\n",
    "    with torch.no_grad():\n",
    "        for i, data in enumerate(dataloader):\n",
    "            for key in data:\n",
    "                data[key] = data[key].to(device)\n",
    "            outputs = model(data['SR'])\n",
    "            loss = loss_fn(outputs, data['HR'])\n",
    "            test_loss += loss.item()\n",
    "\n",
    "    test_loss /= num_batches\n",
    "    return test_loss\n",
    "\n",
    "for epoch in range(epochs):\n",
    "    running_loss = 0.0\n",
    "    \n",
    "    model.train()\n",
    "    \n",
    "    for i, data in enumerate(train_dataloader):\n",
    "        \n",
    "        for key in data:\n",
    "            data[key] = data[key].to(device)\n",
    "        \n",
    "        optimizer.zero_grad()\n",
    "        outputs = model(data['SR'])\n",
    "        loss = criterion(outputs, data['HR'])\n",
    "        loss.backward()\n",
    "        optimizer.step()\n",
    "        running_loss += loss.item()\n",
    "    print('Epoch %d, loss: %.3f' % (epoch+1, running_loss/(i+1)))\n",
    "    training_loss.append(running_loss/(i+1))\n",
    "    val_loss = test(val_dataloader, model, nn.BCELoss())\n",
    "    print('val_loss: %.3f' % (val_loss))\n",
    "    validation_loss.append(val_loss)\n",
    "    scheduler.step(val_loss)"
   ]
  },
  {
   "cell_type": "code",
   "execution_count": 85,
   "id": "bf429da2-70f3-45c6-a6ff-441d3f46712d",
   "metadata": {},
   "outputs": [
    {
     "data": {
      "image/png": "[encoded data removed]",
      "text/plain": [
       "<Figure size 640x480 with 1 Axes>"
      ]
     },
     "metadata": {},
     "output_type": "display_data"
    }
   ],
   "source": [
    "\n",
    "plt.plot(range(len(training_loss)),training_loss)\n",
    "plt.plot(range(len(validation_loss)),validation_loss)\n",
    "plt.xlabel(\"epoch\")\n",
    "plt.ylabel(\"Cross entropy loss\")\n",
    "plt.ylim(0.05, 0.20)\n",
    "plt.show()"
   ]
  },
  {
   "cell_type": "code",
   "execution_count": 89,
   "id": "732aafe1-d897-43b4-890a-4fb703e62334",
   "metadata": {},
   "outputs": [],
   "source": [
    "model.eval()\n",
    "sample = model(torch.tensor(val_lr[-1].reshape(1,1,256,256)).to(device))"
   ]
  },
  {
   "cell_type": "code",
   "execution_count": 90,
   "id": "ec6294b0-1f14-46f6-b2d2-db468006aea9",
   "metadata": {},
   "outputs": [],
   "source": [
    "sample_np = sample.cpu().detach().numpy()"
   ]
  },
  {
   "cell_type": "code",
   "execution_count": 50,
   "id": "4a24aa02-4aa8-4ed4-b0c8-c4f22223f7cb",
   "metadata": {},
   "outputs": [
    {
     "data": {
      "text/plain": [
       "(1, 1, 256, 256)"
      ]
     },
     "execution_count": 50,
     "metadata": {},
     "output_type": "execute_result"
    }
   ],
   "source": [
    "sample_np.shape"
   ]
  },
  {
   "cell_type": "code",
   "execution_count": 37,
   "id": "b02f091e-73c0-4ca6-966d-510a7f5019c5",
   "metadata": {},
   "outputs": [],
   "source": [
    "def remove_ticks():\n",
    "    plt.xticks([])\n",
    "    plt.yticks([])"
   ]
  },
  {
   "cell_type": "code",
   "execution_count": 91,
   "id": "57a77c67-e118-47f0-968b-756645dbb8a8",
   "metadata": {},
   "outputs": [
    {
     "data": {
      "image/png": "[encoded data removed]",
      "text/plain": [
       "<Figure size 640x480 with 3 Axes>"
      ]
     },
     "metadata": {},
     "output_type": "display_data"
    }
   ],
   "source": [
    "plt.subplot(131)\n",
    "plt.imshow(val_hr[-1].reshape(256,256),cmap='gray', vmin=0, vmax=1)\n",
    "plt.title(\"high res\")\n",
    "remove_ticks()\n",
    "plt.subplot(132)\n",
    "plt.imshow(val_lr[-1].reshape(256,256),cmap='gray', vmin=0, vmax=1)\n",
    "plt.title(\"low res\")\n",
    "remove_ticks()\n",
    "plt.subplot(133)\n",
    "plt.imshow(sample_np.reshape((256,256)), cmap='gray', vmin=0, vmax=1)\n",
    "plt.title(\"SRCNN result\")\n",
    "remove_ticks()"
   ]
  },
  {
   "cell_type": "code",
   "execution_count": 92,
   "id": "77b93d1b-569e-443f-9d6d-9d40c08fc093",
   "metadata": {},
   "outputs": [],
   "source": [
    "PATH = \"./srcnn.pt\"\n",
    "torch.save(model.state_dict(), PATH)\n"
   ]
  },
  {
   "cell_type": "code",
   "execution_count": null,
   "id": "28d788a8-6291-4020-a7f9-c78a797fc142",
   "metadata": {},
   "outputs": [],
   "source": []
  }
 ],
 "metadata": {
  "kernelspec": {
   "display_name": "Python [conda env:.conda-pytorch]",
   "language": "python",
   "name": "conda-env-.conda-pytorch-py"
  },
  "language_info": {
   "codemirror_mode": {
    "name": "ipython",
    "version": 3
   },
   "file_extension": ".py",
   "mimetype": "text/x-python",
   "name": "python",
   "nbconvert_exporter": "python",
   "pygments_lexer": "ipython3",
   "version": "3.9.16"
  }
 },
 "nbformat": 4,
 "nbformat_minor": 5
}
